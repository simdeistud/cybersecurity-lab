{
 "cells": [
  {
   "cell_type": "code",
   "id": "e1e25226-3267-4503-8b9b-345187a2a6c1",
   "metadata": {},
   "source": [
    "import gzip\n",
    "from io import BytesIO\n",
    "import numpy as np\n",
    "import pandas as pd\n",
    "import os\n",
    "import requests\n",
    "import json"
   ],
   "outputs": [],
   "execution_count": null
  },
  {
   "cell_type": "code",
   "id": "3c39dc26-0b84-4c9f-931e-480a47338219",
   "metadata": {},
   "source": [
    "import seaborn as sns\n",
    "import matplotlib.pyplot as plt\n",
    "\n",
    "sns.set_theme(style=\"whitegrid\")"
   ],
   "outputs": [],
   "execution_count": null
  },
  {
   "cell_type": "code",
   "id": "7122124e-1ed7-4f00-99e0-e8061f55e5cd",
   "metadata": {},
   "source": [
    "from preprocessing_utils import preprocess_NVD_data"
   ],
   "outputs": [],
   "execution_count": null
  },
  {
   "cell_type": "code",
   "id": "d3b91608-cf6d-450a-8446-7a30a54c621e",
   "metadata": {},
   "source": [
    "data_path = 'data'\n",
    "if not os.path.exists(data_path):\n",
    "    os.makedirs(data_path)"
   ],
   "outputs": [],
   "execution_count": null
  },
  {
   "cell_type": "markdown",
   "id": "180ddd39-557d-4249-ad39-fd06f106ba53",
   "metadata": {},
   "source": [
    "# EPSS data"
   ]
  },
  {
   "cell_type": "markdown",
   "id": "edd89066-8051-4b7b-a6c7-fd87a1c9974a",
   "metadata": {},
   "source": [
    "Download the EPSS data from https://www.first.org/epss/data_stats into `data` folder"
   ]
  },
  {
   "metadata": {},
   "cell_type": "code",
   "source": [
    "base_url = \"https://epss.empiricalsecurity.com/epss_scores-\"\n",
    "date_current = \"2025-10-01\"  # Or automatically get current day\n",
    "ext = \".csv.gz\"\n",
    "nvd_url = base_url + date_current + ext\n",
    "nvd_filename = \"epss_scores-\" + date_current + ext\n",
    "response = requests.get(nvd_url)\n",
    "with open(os.path.join(data_path, nvd_filename), \"wb\") as binary_file:\n",
    "    binary_file.write(response.content)"
   ],
   "id": "7aa203f8b783e9bc",
   "outputs": [],
   "execution_count": null
  },
  {
   "cell_type": "code",
   "id": "7d837721-b351-427d-8fac-216790c63030",
   "metadata": {
    "scrolled": true
   },
   "source": [
    "epss_current = pd.read_csv(os.path.join(data_path, nvd_filename), compression='gzip', header=1)\n",
    "epss_current  # a Python statement with a variable name at the end of a cell will display its contents below\n"
   ],
   "outputs": [],
   "execution_count": null
  },
  {
   "cell_type": "markdown",
   "id": "b1f75ed9-5eab-43a7-9f7e-77e19a40d5a7",
   "metadata": {},
   "source": [
    "# NVD data"
   ]
  },
  {
   "cell_type": "code",
   "id": "59f48abf-b55b-4376-a88c-2695f93281eb",
   "metadata": {},
   "source": [
    "base_url = \"https://services.nvd.nist.gov/rest/json/cves/2.0\"\n",
    "date_start_NVD = '2025-09-01T00:00:00.000Z'  # Do NOT change these dates\n",
    "date_end_NVD = '2025-10-01T00:00:00.000Z'  # Do NOT change these dates\n",
    "start_index = 0\n",
    "results_per_page = 1000\n",
    "total_results = 1\n",
    "\n",
    "candidate_cves = []\n",
    "\n",
    "while start_index < total_results:\n",
    "    params = {\n",
    "        \"pubStartDate\": date_start_NVD,\n",
    "        \"pubEndDate\": date_end_NVD,\n",
    "        \"resultsPerPage\": results_per_page,\n",
    "        \"startIndex\": start_index,\n",
    "        \"noRejected\": \"\"\n",
    "    }\n",
    "    response = requests.get(base_url, params=params, timeout=6)\n",
    "    if response.status_code != 200:\n",
    "        print(\"Error:\", response.status_code)\n",
    "        break\n",
    "\n",
    "    data = response.json()\n",
    "    total_results = data.get(\"totalResults\", 0)\n",
    "\n",
    "    candidate_cves.extend(data.get(\"vulnerabilities\", []))\n",
    "\n",
    "    start_index += results_per_page\n",
    "    print(start_index)"
   ],
   "outputs": [],
   "execution_count": null
  },
  {
   "cell_type": "code",
   "id": "6f9210c3-11ab-4edd-8e72-136ecee23c22",
   "metadata": {
    "scrolled": true
   },
   "source": [
    "# normalize and preprocess data\n",
    "df = pd.json_normalize(candidate_cves, record_path=None, sep='.', max_level=None)\n",
    "df = preprocess_NVD_data(df)\n",
    "\n",
    "# remove vulnerabilities marked as \"reject\" or \"reserved\"\n",
    "df = df[(df['cve.vulnStatus'] != 'Reserved') & (df['cve.vulnStatus'] != 'Reject')]\n",
    "\n",
    "# merge NVD and EPSS data\n",
    "df = df.merge(epss_current, left_on=\"cve.id\", right_on=\"cve\", how=\"left\")"
   ],
   "outputs": [],
   "execution_count": null
  },
  {
   "cell_type": "code",
   "id": "b4e33108-be55-4b92-946e-fdb85371c8f6",
   "metadata": {},
   "source": [
    "# save nvd data\n",
    "with open(os.path.join(data_path, \"nvd_cves.json\"), \"w\", encoding=\"utf-8\") as f:\n",
    "    json.dump(candidate_cves, f, indent=2)\n",
    "\n",
    "# save the final dataframe\n",
    "df.to_csv(os.path.join(data_path, \"vuln_2025_09.csv\"))"
   ],
   "outputs": [],
   "execution_count": null
  },
  {
   "cell_type": "markdown",
   "id": "8a433287-3840-4f6c-88c7-61ea90844810",
   "metadata": {},
   "source": [
    "# Exploratory Data Analysis"
   ]
  },
  {
   "cell_type": "markdown",
   "id": "fa77d3c3-db8e-4c2a-9ebd-8efad0f7185a",
   "metadata": {},
   "source": [
    "- display some examples (e.g., the first two CVE records)"
   ]
  },
  {
   "cell_type": "code",
   "id": "00c2bcea-ef6a-4305-8f76-75c6abfe28ff",
   "metadata": {},
   "source": [
    "df.head(2).T"
   ],
   "outputs": [],
   "execution_count": null
  },
  {
   "cell_type": "markdown",
   "id": "37ec5219-2d00-4665-90b0-1f5b681f7dfd",
   "metadata": {},
   "source": [
    "- show a bar plot with the daily volume of published CVEs"
   ]
  },
  {
   "cell_type": "code",
   "id": "a45357d5-2b0d-418e-a528-7cdd887a0341",
   "metadata": {},
   "source": [
    "published_counts = df[\"cve.published\"].dt.date.value_counts().sort_index()\n",
    "\n",
    "plt.figure(figsize=(12, 5))\n",
    "sns.barplot(x=published_counts.index, y=published_counts.values, color=\"k\")\n",
    "plt.xticks(rotation=90)\n",
    "plt.xlabel(\"Date\")\n",
    "plt.ylabel(\"Number of CVEs Published\")\n",
    "plt.title(\"CVE Publications per Day\")\n",
    "plt.tight_layout()\n",
    "plt.show()"
   ],
   "outputs": [],
   "execution_count": null
  },
  {
   "cell_type": "markdown",
   "id": "ba40f44e-373a-407f-ae1e-0abd1ac51baf",
   "metadata": {},
   "source": [
    "- print the description of the last ten published vulnerabilities"
   ]
  },
  {
   "cell_type": "code",
   "id": "b616d5e6-98e1-4fe4-82a8-44d58f2074a8",
   "metadata": {},
   "source": [
    "for idx, x in enumerate(df.sort_values('cve.published', ascending=False)[:10].iterrows()):\n",
    "    print('-' * 100)\n",
    "    print(x[1]['cve.id'], x[1]['cve.published'])\n",
    "    print(x[1].description)\n"
   ],
   "outputs": [],
   "execution_count": null
  },
  {
   "cell_type": "markdown",
   "id": "593e3cfd-f222-4042-a9ef-4a1e4ac9c58f",
   "metadata": {
    "jp-MarkdownHeadingCollapsed": true
   },
   "source": [
    "### <font color='blue'><b><i>TODO</i></b>: produce plots or tables to address the folowing points</font>\n",
    "- what is the percentage of CVEs which received a CVSS score?\n",
    "- report descriptive statistics of CVSS the CVSS base score and/or show its distribution\n",
    "- report descriptive statistics of EPSS and/or show its distribution\n",
    "- produce a scatter plot showing CVSS vs EPSS\n",
    "- <b>be creative</b>!\n",
    "    - How many vulnerabilities are published on CISA KEV? \n",
    "    - What are the the 20 most frequent vendors? (vendor name can be extracted from the `vulnerable_cpes` field).\n",
    "    - What are the 20 most frequent CWEs?\n",
    "    - Anaything else you see fit!\n",
    "\n",
    "<font color='blue'>Use text cells to discuss the outcome after each point</font>"
   ]
  },
  {
   "metadata": {},
   "cell_type": "markdown",
   "source": "What is the percentage of CVEs which received a CVSS score?",
   "id": "7e844854a838a134"
  },
  {
   "metadata": {},
   "cell_type": "code",
   "source": "print(f\"{df[\"cvss_baseScore\"]}%\")",
   "id": "1f7b7c40a0bb70ee",
   "outputs": [],
   "execution_count": null
  },
  {
   "cell_type": "markdown",
   "id": "ca396b81-126f-4d52-af72-aa38120bcae0",
   "metadata": {},
   "source": [
    "# CVE selection\n"
   ]
  },
  {
   "cell_type": "markdown",
   "id": "fe548397-5c5e-437b-a735-e86264804ade",
   "metadata": {},
   "source": [
    "### <font color='blue'><b><i>TODO</i></b>\n",
    "- Filter the CVEs with low EPSS (<1%)\n",
    "- Select candidate CVEs\n",
    "    - From the resulting subset, select 10 CVEs that you think will reach high EPSS by the end of the course.\n",
    "    - Clearly describe the criteria you used for selection (e.g., high CVSS, popular software, CWE, popular vendor, number of references, keyword in description, manual inspection, random sampling, security blogs).\n",
    "- Share the selected CVE ids with the instructor (by two weeks). Use the code cell below to produce the csv file to submit.\n",
    "- Track the EPSS of your CVEs over time\n"
   ]
  },
  {
   "metadata": {},
   "cell_type": "markdown",
   "source": "As per specification, we start by filtering the CVEs with low EPSS (<1%)",
   "id": "88ed8e687f272735"
  },
  {
   "metadata": {},
   "cell_type": "code",
   "source": [
    "df_candidates = df[df['percentile'] <= 0.01]\n",
    "df_candidates"
   ],
   "id": "248ac73e21bdd66",
   "outputs": [],
   "execution_count": null
  },
  {
   "metadata": {},
   "cell_type": "markdown",
   "source": "Since these CVEs are quite unknown, let's see if there are some unfilled columns we can remove to speed up analysis",
   "id": "e39238973c08868c"
  },
  {
   "metadata": {},
   "cell_type": "code",
   "source": "df_candidates.head()",
   "id": "51e92bab43b2b08c",
   "outputs": [],
   "execution_count": null
  },
  {
   "metadata": {},
   "cell_type": "markdown",
   "source": "We build a ML pipeline to try to predict which one of these CVEs will make it big in the next 3 months. To do so, we first download the complete history of EPSS daily values since first publication for all CVEs.",
   "id": "a82e85d60a54cf81"
  },
  {
   "metadata": {},
   "cell_type": "markdown",
   "source": [
    "As our dataset, we take all CVEs from NVD and we add the binary label \"made_it\" which will be true if the following properties are satisfied, and false otherwise:\n",
    "\n",
    " $\\text{P1: }\\exists t_s\\in[\\text{2021-04-14}, \\text{2025-07-01}] : \\text{EPSS(CSV}, t_s\\text{)} < 1\\%(t_s)$\n",
    "\n",
    " $\\text{P2: }\\exists t_f\\in[t_s, t_s+90] : \\text{EPSS(CSV}, t_s\\text{)} >= 90\\%(t_f)$\n",
    "\n",
    "We choose a percentile of 90% because we want to make it big! (we should go much lower 50% to be more sure)"
   ],
   "id": "ad4eb9c0edc26627"
  },
  {
   "metadata": {},
   "cell_type": "markdown",
   "source": [
    "The metrics used for evalution will be:\n",
    "\n",
    "for each vuln:\n",
    "$\\frac{\\sum_{t=1}^{T}pct_{i,t}-pct_{i,0}}{T}$"
   ],
   "id": "8527441ca40eb0d3"
  },
  {
   "metadata": {},
   "cell_type": "markdown",
   "source": [
    "## NVD complete database\n",
    "We start by downloading all the CVEs that have ever been published between 2002 and 2024"
   ],
   "id": "e8a6ca7f0f6617d4"
  },
  {
   "metadata": {},
   "cell_type": "code",
   "source": [
    "base_url = \"https://nvd.nist.gov/feeds/json/cve/2.0/nvdcve-2.0-\"\n",
    "years = range(2002, 2025, 1)\n",
    "ext = \".json.gz\"\n",
    "\n",
    "all_cves = []\n",
    "\n",
    "for year in years:\n",
    "    nvd_filename = \"cves-\" + str(year) + ext\n",
    "    nvd_url = base_url + str(year) + ext\n",
    "    response = requests.get(nvd_url)\n",
    "    if response.status_code != 200:\n",
    "        print(\"Error:\", response.status_code)\n",
    "        break\n",
    "    with gzip.GzipFile(fileobj=BytesIO(response.content)) as f:\n",
    "        all_cves.extend(json.load(f).get(\"vulnerabilities\", []))\n",
    "    with open(os.path.join(data_path, \"cves-\" + str(year) + \".json\"), \"wb\") as binary_file:\n",
    "        binary_file.write(json.load(f))"
   ],
   "id": "7c8f345f3fd61aa6",
   "outputs": [],
   "execution_count": null
  },
  {
   "metadata": {},
   "cell_type": "code",
   "source": [
    "# normalize and preprocess data\n",
    "df = pd.json_normalize(all_cves, record_path=None, sep='.', max_level=None)\n",
    "df = preprocess_NVD_data(df)\n",
    "df.describe()"
   ],
   "id": "7683c365fccc80a0",
   "outputs": [],
   "execution_count": null
  },
  {
   "metadata": {},
   "cell_type": "code",
   "source": "df.isnull().sum()",
   "id": "73e322816fb51e6a",
   "outputs": [],
   "execution_count": null
  },
  {
   "metadata": {},
   "cell_type": "markdown",
   "source": "We drop all the following columns because they have too many missing values. We also drop all CVEs that don't have a CVSS version",
   "id": "1f0d91243c0b1c9f"
  },
  {
   "metadata": {},
   "cell_type": "code",
   "source": [
    "X = df.drop(columns=[\"cve.evaluatorSolution\", \"cve.evaluatorImpact\", \"cve.vendorComments\", \"cve.evaluatorComment\", \"cve.cisaExploitAdd\", \"cve.cisaActionDue\", \"cve.cisaRequiredAction\", \"cve.cisaVulnerabilityName\"]).dropna()\n",
    "X.info()"
   ],
   "id": "50fa5ad6c057d331",
   "outputs": [],
   "execution_count": null
  },
  {
   "metadata": {},
   "cell_type": "markdown",
   "source": [
    "## Feature construction from historical EPSS data\n",
    "\n",
    "For each CVE, we download its complete EPSS history and we determine if at any point it satisfied the metrics set by the exercise. Since the metrics are 4, we will append 4 binary labels accordingly."
   ],
   "id": "c653746a5d7a8b3a"
  },
  {
   "cell_type": "code",
   "id": "bdd1d97f-ffbd-4834-bf7e-6312a9af822f",
   "metadata": {},
   "source": [
    "nickname = 'template_submsission'  # TODO: put your nickname here\n",
    "\n",
    "# TODO: put your selected IDs here\n",
    "selected = ['CVE-YYYY-XXXXX0',\n",
    "            'CVE-YYYY-XXXXX1',\n",
    "            'CVE-YYYY-XXXXX2',\n",
    "            'CVE-YYYY-XXXXX3',\n",
    "            'CVE-YYYY-XXXXX4',\n",
    "            'CVE-YYYY-XXXXX5',\n",
    "            'CVE-YYYY-XXXXX6',\n",
    "            'CVE-YYYY-XXXXX7',\n",
    "            'CVE-YYYY-XXXXX8',\n",
    "            'CVE-YYYY-XXXXX9',\n",
    "            ]\n",
    "\n",
    "df[df['cve.id'].isin(selected)].to_csv(os.path.join(data_path, f'{nickname}.csv'))            "
   ],
   "outputs": [],
   "execution_count": null
  }
 ],
 "metadata": {
  "kernelspec": {
   "display_name": "cybLab",
   "language": "python",
   "name": "python3"
  },
  "language_info": {
   "codemirror_mode": {
    "name": "ipython",
    "version": 3
   },
   "file_extension": ".py",
   "mimetype": "text/x-python",
   "name": "python",
   "nbconvert_exporter": "python",
   "pygments_lexer": "ipython3",
   "version": "3.11.13"
  }
 },
 "nbformat": 4,
 "nbformat_minor": 5
}
