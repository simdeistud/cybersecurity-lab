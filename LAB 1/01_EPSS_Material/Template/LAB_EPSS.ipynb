{
 "cells": [
  {
   "cell_type": "code",
   "id": "e1e25226-3267-4503-8b9b-345187a2a6c1",
   "metadata": {},
   "source": [
    "import gzip\n",
    "from io import BytesIO\n",
    "import numpy as np\n",
    "import pandas as pd\n",
    "import os\n",
    "import requests\n",
    "import json\n",
    "import csv\n",
    "import shutil\n",
    "from datetime import date, timedelta"
   ],
   "outputs": [],
   "execution_count": null
  },
  {
   "cell_type": "code",
   "id": "3c39dc26-0b84-4c9f-931e-480a47338219",
   "metadata": {},
   "source": [
    "import seaborn as sns\n",
    "import matplotlib.pyplot as plt\n",
    "\n",
    "sns.set_theme(style=\"whitegrid\")"
   ],
   "outputs": [],
   "execution_count": null
  },
  {
   "cell_type": "code",
   "id": "7122124e-1ed7-4f00-99e0-e8061f55e5cd",
   "metadata": {},
   "source": [
    "from preprocessing_utils import preprocess_NVD_data"
   ],
   "outputs": [],
   "execution_count": null
  },
  {
   "cell_type": "code",
   "id": "d3b91608-cf6d-450a-8446-7a30a54c621e",
   "metadata": {},
   "source": [
    "data_path = 'data'\n",
    "if not os.path.exists(data_path):\n",
    "    os.makedirs(data_path)"
   ],
   "outputs": [],
   "execution_count": null
  },
  {
   "cell_type": "markdown",
   "id": "180ddd39-557d-4249-ad39-fd06f106ba53",
   "metadata": {},
   "source": [
    "# EPSS data"
   ]
  },
  {
   "cell_type": "markdown",
   "id": "edd89066-8051-4b7b-a6c7-fd87a1c9974a",
   "metadata": {},
   "source": [
    "Download the EPSS data from https://www.first.org/epss/data_stats into `data` folder"
   ]
  },
  {
   "metadata": {},
   "cell_type": "code",
   "source": [
    "base_url = \"https://epss.empiricalsecurity.com/epss_scores-\"\n",
    "date_current = str(date.today() - timedelta(days=1))\n",
    "epss_url = base_url + date_current + \".csv.gz\"\n",
    "epss_filename = \"epss_scores-latest.csv\"\n",
    "\n",
    "response = requests.get(epss_url)\n",
    "if response.status_code != 200:\n",
    "    print(\"Error:\", response.status_code)\n",
    "else:\n",
    "    with open(os.path.join(data_path, epss_filename), \"wb\") as f:\n",
    "        f.write(gzip.decompress(response.content))"
   ],
   "id": "7aa203f8b783e9bc",
   "outputs": [],
   "execution_count": null
  },
  {
   "cell_type": "code",
   "id": "7d837721-b351-427d-8fac-216790c63030",
   "metadata": {
    "scrolled": true
   },
   "source": [
    "epss_current = pd.read_csv(os.path.join(data_path, epss_filename), header=1)\n",
    "epss_current  # a Python statement with a variable name at the end of a cell will display its contents below\n"
   ],
   "outputs": [],
   "execution_count": null
  },
  {
   "cell_type": "markdown",
   "id": "b1f75ed9-5eab-43a7-9f7e-77e19a40d5a7",
   "metadata": {},
   "source": [
    "# NVD data"
   ]
  },
  {
   "cell_type": "code",
   "id": "59f48abf-b55b-4376-a88c-2695f93281eb",
   "metadata": {},
   "source": [
    "base_url = \"https://services.nvd.nist.gov/rest/json/cves/2.0\"\n",
    "date_start_NVD = '2025-09-01T00:00:00.000Z'  # Do NOT change these dates\n",
    "date_end_NVD = '2025-10-01T00:00:00.000Z'  # Do NOT change these dates\n",
    "start_index = 0\n",
    "results_per_page = 1000\n",
    "total_results = 1\n",
    "\n",
    "candidate_cves = []\n",
    "while start_index < total_results:\n",
    "    params = {\n",
    "        \"pubStartDate\": date_start_NVD,\n",
    "        \"pubEndDate\": date_end_NVD,\n",
    "        \"resultsPerPage\": results_per_page,\n",
    "        \"startIndex\": start_index,\n",
    "        \"noRejected\": \"\"\n",
    "    }\n",
    "    response = requests.get(base_url, params=params, timeout=6)\n",
    "    if response.status_code != 200:\n",
    "        print(\"Error:\", response.status_code)\n",
    "        break\n",
    "    data = response.json()\n",
    "    total_results = data.get(\"totalResults\", 0)\n",
    "    candidate_cves.extend(data.get(\"vulnerabilities\", []))\n",
    "    start_index += results_per_page\n",
    "    print(start_index)"
   ],
   "outputs": [],
   "execution_count": null
  },
  {
   "cell_type": "code",
   "id": "6f9210c3-11ab-4edd-8e72-136ecee23c22",
   "metadata": {
    "scrolled": true
   },
   "source": [
    "# normalize and preprocess data\n",
    "candidate_cves_df = pd.json_normalize(candidate_cves, record_path=None, sep='.', max_level=None)\n",
    "candidate_cves_df = preprocess_NVD_data(candidate_cves_df)\n",
    "\n",
    "# remove vulnerabilities marked as \"reject\" or \"reserved\"\n",
    "candidate_cves_df = candidate_cves_df[(candidate_cves_df['cve.vulnStatus'] != 'Reserved') & (candidate_cves_df['cve.vulnStatus'] != 'Reject')]\n",
    "\n",
    "# merge NVD and EPSS data\n",
    "candidate_cves_df = candidate_cves_df.merge(epss_current, left_on=\"cve.id\", right_on=\"cve\", how=\"left\")"
   ],
   "outputs": [],
   "execution_count": null
  },
  {
   "cell_type": "code",
   "id": "b4e33108-be55-4b92-946e-fdb85371c8f6",
   "metadata": {},
   "source": [
    "# save nvd data\n",
    "with open(os.path.join(data_path, \"candidate_cves.json\"), \"w\", encoding=\"utf-8\") as f:\n",
    "    json.dump(candidate_cves, f, indent=2)\n",
    "\n",
    "# save the final dataframe\n",
    "candidate_cves_df.to_csv(os.path.join(data_path, \"candidate_cves_df.csv\"))"
   ],
   "outputs": [],
   "execution_count": null
  },
  {
   "cell_type": "markdown",
   "id": "8a433287-3840-4f6c-88c7-61ea90844810",
   "metadata": {},
   "source": [
    "# Exploratory Data Analysis"
   ]
  },
  {
   "cell_type": "markdown",
   "id": "fa77d3c3-db8e-4c2a-9ebd-8efad0f7185a",
   "metadata": {},
   "source": [
    "- display some examples (e.g., the first two CVE records)"
   ]
  },
  {
   "cell_type": "code",
   "id": "00c2bcea-ef6a-4305-8f76-75c6abfe28ff",
   "metadata": {},
   "source": "candidate_cves_df.head(2).T",
   "outputs": [],
   "execution_count": null
  },
  {
   "cell_type": "markdown",
   "id": "37ec5219-2d00-4665-90b0-1f5b681f7dfd",
   "metadata": {},
   "source": [
    "- show a bar plot with the daily volume of published CVEs"
   ]
  },
  {
   "cell_type": "code",
   "id": "a45357d5-2b0d-418e-a528-7cdd887a0341",
   "metadata": {},
   "source": [
    "published_counts = candidate_cves_df[\"cve.published\"].dt.date.value_counts().sort_index()\n",
    "\n",
    "plt.figure(figsize=(12, 5))\n",
    "sns.barplot(x=published_counts.index, y=published_counts.values, color=\"k\")\n",
    "plt.xticks(rotation=90)\n",
    "plt.xlabel(\"Date\")\n",
    "plt.ylabel(\"Number of CVEs Published\")\n",
    "plt.title(\"CVE Publications per Day\")\n",
    "plt.tight_layout()\n",
    "plt.show()"
   ],
   "outputs": [],
   "execution_count": null
  },
  {
   "cell_type": "markdown",
   "id": "ba40f44e-373a-407f-ae1e-0abd1ac51baf",
   "metadata": {},
   "source": [
    "- print the description of the last ten published vulnerabilities"
   ]
  },
  {
   "cell_type": "code",
   "id": "b616d5e6-98e1-4fe4-82a8-44d58f2074a8",
   "metadata": {},
   "source": [
    "for idx, x in enumerate(candidate_cves_df.sort_values('cve.published', ascending=False)[:10].iterrows()):\n",
    "    print('-' * 100)\n",
    "    print(x[1]['cve.id'], x[1]['cve.published'])\n",
    "    print(x[1].description)\n"
   ],
   "outputs": [],
   "execution_count": null
  },
  {
   "cell_type": "markdown",
   "id": "593e3cfd-f222-4042-a9ef-4a1e4ac9c58f",
   "metadata": {
    "jp-MarkdownHeadingCollapsed": true
   },
   "source": [
    "### <font color='blue'><b><i>TODO</i></b>: produce plots or tables to address the folowing points</font>\n",
    "- <b>be creative</b>!\n",
    "    - How many vulnerabilities are published on CISA KEV? \n",
    "    - What are the the 20 most frequent vendors? (vendor name can be extracted from the `vulnerable_cpes` field).\n",
    "    - What are the 20 most frequent CWEs?\n",
    "    - Anaything else you see fit!\n",
    "\n",
    "<font color='blue'>Use text cells to discuss the outcome after each point</font>"
   ]
  },
  {
   "metadata": {},
   "cell_type": "markdown",
   "source": "We keep track of some information to help us later on.",
   "id": "7aad17a09da02007"
  },
  {
   "metadata": {},
   "cell_type": "code",
   "source": "dropped_columns = []",
   "id": "756082f623d42b59",
   "outputs": [],
   "execution_count": null
  },
  {
   "metadata": {},
   "cell_type": "markdown",
   "source": "- What is the percentage of CVEs which received a CVSS score?",
   "id": "7e844854a838a134"
  },
  {
   "metadata": {},
   "cell_type": "code",
   "source": "print(f\"{(candidate_cves_df[\"cvss_baseScore\"].count() / len(candidate_cves_df)) * 100:.02f}%\")",
   "id": "1f7b7c40a0bb70ee",
   "outputs": [],
   "execution_count": null
  },
  {
   "metadata": {},
   "cell_type": "markdown",
   "source": "- Report descriptive statistics of CVSS the CVSS base score and/or show its distribution",
   "id": "240a9c8e29e5aa00"
  },
  {
   "metadata": {},
   "cell_type": "code",
   "source": "candidate_cves_df.info()",
   "id": "1af90597b08fc45d",
   "outputs": [],
   "execution_count": null
  },
  {
   "metadata": {},
   "cell_type": "markdown",
   "source": "We see that feature 6, 7, 8, and 9 have a very small amount of non null values. Therefore, we drop those columns to reduce dimensionality. We also remove all CVEs withtout CVSS data.",
   "id": "9d6efb3b6a9a8d76"
  },
  {
   "metadata": {},
   "cell_type": "code",
   "source": [
    "dropped_columns = [\"cve.cisaExploitAdd\", \"cve.cisaActionDue\", \"cve.cisaRequiredAction\", \"cve.cisaVulnerabilityName\"]\n",
    "candidate_cves_df = candidate_cves_df.drop(columns=dropped_columns).dropna()"
   ],
   "id": "1791ae66e24685b0",
   "outputs": [],
   "execution_count": null
  },
  {
   "metadata": {},
   "cell_type": "markdown",
   "source": "Here we print some statistics about CVSS base score and we show its distribution related to publication date.",
   "id": "d96cd3cc861b50dc"
  },
  {
   "metadata": {},
   "cell_type": "code",
   "source": "candidate_cves_df[\"cvss_baseScore\"].describe()",
   "id": "517e2ce0fec80dcd",
   "outputs": [],
   "execution_count": null
  },
  {
   "metadata": {},
   "cell_type": "code",
   "source": [
    "plt.figure(figsize=(12, 5))\n",
    "sns.displot(x=candidate_cves_df[\"cvss_baseScore\"], color=\"k\")\n",
    "plt.xticks(rotation=90)\n",
    "plt.xlabel(\"CVSS\")\n",
    "plt.ylabel(\"Count\")\n",
    "plt.title(\"September 2025\")\n",
    "plt.tight_layout()\n",
    "plt.show()"
   ],
   "id": "38234cc1bdff9133",
   "outputs": [],
   "execution_count": null
  },
  {
   "metadata": {},
   "cell_type": "markdown",
   "source": "It would seem that a relatively high number of CVEs published in september 2025 have a very high CVSS.",
   "id": "73b6cb0cde58863a"
  },
  {
   "metadata": {},
   "cell_type": "code",
   "source": [
    "plt.figure(figsize=(12, 5))\n",
    "sns.scatterplot(x=candidate_cves_df[\"cve.published\"], y=candidate_cves_df[\"cvss_baseScore\"], color=\"k\")\n",
    "plt.xticks(rotation=90)\n",
    "plt.xlabel(\"Date\")\n",
    "plt.ylabel(\"CVSS\")\n",
    "plt.tight_layout()\n",
    "plt.show()\n"
   ],
   "id": "63fa1d2b0b0afa72",
   "outputs": [],
   "execution_count": null
  },
  {
   "metadata": {},
   "cell_type": "markdown",
   "source": "- #### Report descriptive statistics of EPSS and/or show its distribution",
   "id": "9e27c5bc68c9d55c"
  },
  {
   "metadata": {},
   "cell_type": "markdown",
   "source": "Here we print some statistics about EPSS base score and we show its distribution related to publication date.",
   "id": "b1e880f0822cd33d"
  },
  {
   "metadata": {},
   "cell_type": "code",
   "source": "candidate_cves_df[\"epss\"].describe()",
   "id": "339619233fb97d3b",
   "outputs": [],
   "execution_count": null
  },
  {
   "metadata": {},
   "cell_type": "code",
   "source": [
    "plt.figure(figsize=(12, 5))\n",
    "sns.scatterplot(x=candidate_cves_df[\"cve.published\"], y=candidate_cves_df[\"epss\"], color=\"k\")\n",
    "plt.xticks(rotation=90)\n",
    "plt.xlabel(\"Date\")\n",
    "plt.ylabel(\"EPSS\")\n",
    "plt.tight_layout()\n",
    "plt.show()\n"
   ],
   "id": "bbedbf7bc2f05970",
   "outputs": [],
   "execution_count": null
  },
  {
   "metadata": {},
   "cell_type": "markdown",
   "source": "It is evident that, except for a couple of outliers, on average the EPSS is extremely low.",
   "id": "5bcd7c62b7c85dec"
  },
  {
   "metadata": {},
   "cell_type": "markdown",
   "source": "- #### Produce a scatter plot showing CVSS vs EPSS\n",
   "id": "dbd4965755499cb0"
  },
  {
   "metadata": {},
   "cell_type": "code",
   "source": [
    "plt.figure(figsize=(12, 5))\n",
    "sns.scatterplot(x=candidate_cves_df[\"cvss_baseScore\"], y=candidate_cves_df[\"epss\"], color=\"k\")\n",
    "plt.xticks(rotation=90)\n",
    "plt.xlabel(\"CVSS\")\n",
    "plt.ylabel(\"EPSS\")\n",
    "plt.title(\"September 2025\")\n",
    "plt.tight_layout()\n",
    "plt.show()"
   ],
   "id": "b502b3551915eed2",
   "outputs": [],
   "execution_count": null
  },
  {
   "metadata": {},
   "cell_type": "markdown",
   "source": "As we can see, the CVSS and EPSS are not really related with each other, even though the only times the EPSS is high enough, it's in the presence of an equally high CVSS. We can further visualize this lack of correlation with a correlation matrix:",
   "id": "81a7296bc0dde4ce"
  },
  {
   "metadata": {},
   "cell_type": "code",
   "source": [
    "plt.figure(figsize=(8,6))\n",
    "sns.heatmap(candidate_cves_df[[\"cvss_baseScore\", \"epss\", \"percentile\"]].corr(), annot=True, cmap=\"coolwarm\")\n",
    "plt.title(\"September 2025\")\n",
    "plt.show()"
   ],
   "id": "d84ac6317e18ee14",
   "outputs": [],
   "execution_count": null
  },
  {
   "metadata": {},
   "cell_type": "markdown",
   "source": "- #### Extra analysis",
   "id": "a8f72d8391d53557"
  },
  {
   "cell_type": "markdown",
   "id": "ca396b81-126f-4d52-af72-aa38120bcae0",
   "metadata": {},
   "source": ""
  },
  {
   "cell_type": "markdown",
   "id": "fe548397-5c5e-437b-a735-e86264804ade",
   "metadata": {},
   "source": [
    "### <font color='blue'><b><i>TODO</i></b>\n",
    "- Filter the CVEs with low EPSS (<1%)\n",
    "- Select candidate CVEs\n",
    "    - From the resulting subset, select 10 CVEs that you think will reach high EPSS by the end of the course.\n",
    "    - Clearly describe the criteria you used for selection (e.g., high CVSS, popular software, CWE, popular vendor, number of references, keyword in description, manual inspection, random sampling, security blogs).\n",
    "- Share the selected CVE ids with the instructor (by two weeks). Use the code cell below to produce the csv file to submit.\n",
    "- Track the EPSS of your CVEs over time\n"
   ]
  },
  {
   "metadata": {},
   "cell_type": "markdown",
   "source": "As per specification, we start by filtering the CVEs with low EPSS (<1%)",
   "id": "88ed8e687f272735"
  },
  {
   "metadata": {},
   "cell_type": "code",
   "source": [
    "candidate_cves_df = candidate_cves_df[candidate_cves_df['percentile'] <= 0.01]\n",
    "candidate_cves_df.info()"
   ],
   "id": "248ac73e21bdd66",
   "outputs": [],
   "execution_count": null
  },
  {
   "metadata": {},
   "cell_type": "markdown",
   "source": [
    "## NVD complete database\n",
    "We start by downloading all the CVEs that have ever been published between 2002 and 2024"
   ],
   "id": "e8a6ca7f0f6617d4"
  },
  {
   "metadata": {},
   "cell_type": "code",
   "source": [
    "base_url = \"https://nvd.nist.gov/feeds/json/cve/2.0/nvdcve-2.0-\"\n",
    "years = range(2002, 2025, 1)\n",
    "ext = \".json.gz\"\n",
    "\n",
    "all_cves = []\n",
    "# is json file doesn't exist use json to store all_cves inside it\n",
    "if not os.path.exists(os.path.join(data_path, \"all_cves\" + ext)):\n",
    "    # We merge all cves into a single json file\n",
    "    with open(os.path.join(data_path, \"all_cves.json\"), \"wb\") as f:\n",
    "        for year in years:\n",
    "            csv_url = base_url + str(year) + ext\n",
    "            response = requests.get(csv_url)\n",
    "            if response.status_code != 200:\n",
    "                print(\"Error:\", response.status_code)\n",
    "                break\n",
    "            f.write(gzip.decompress(response.content))\n",
    "            f.write(b'\\n')\n",
    "        # We compress the merged file\n",
    "        with open(os.path.join(data_path, \"all_cves\" + ext), \"wb\") as fcomp:\n",
    "            fcomp.write(gzip.compress(f.read()))\n",
    "    # We delete the temp json file\n",
    "    os.remove(os.path.join(data_path, \"all_cves.json\"))\n",
    "all_cves = json.load(gzip.open(os.path.join(data_path, \"all_cves\" + ext))).get(\"vulnerabilities\", [])"
   ],
   "id": "7c8f345f3fd61aa6",
   "outputs": [],
   "execution_count": null
  },
  {
   "metadata": {},
   "cell_type": "markdown",
   "source": "### Data Cleaning",
   "id": "2e1e0076771926f2"
  },
  {
   "metadata": {},
   "cell_type": "code",
   "source": [
    "# normalize and preprocess data\n",
    "all_cves_df = pd.json_normalize(all_cves, record_path=None, sep='.', max_level=None)\n",
    "all_cves_df = preprocess_NVD_data(all_cves_df)\n",
    "\n",
    "# remove vulnerabilities marked as \"reject\" or \"reserved\"\n",
    "all_cves_df = all_cves_df[(all_cves_df['cve.vulnStatus'] != 'Reserved') & (all_cves_df['cve.vulnStatus'] != 'Reject')]\n",
    "\n",
    "all_cves_df.describe()"
   ],
   "id": "7683c365fccc80a0",
   "outputs": [],
   "execution_count": null
  },
  {
   "metadata": {},
   "cell_type": "code",
   "source": "all_cves_df.isnull().sum()",
   "id": "73e322816fb51e6a",
   "outputs": [],
   "execution_count": null
  },
  {
   "metadata": {},
   "cell_type": "markdown",
   "source": "Some features have a high number of missing values, so we drop the columns directly. Due to the sheer amount of samples, we also remove all the rows that have a missing value. Since we will aggregate data from all the CVEs' histories, we also drop date-related columns.",
   "id": "1f0d91243c0b1c9f"
  },
  {
   "metadata": {},
   "cell_type": "code",
   "source": [
    "X = all_cves_df.drop(columns=[\"cve.evaluatorSolution\", \"cve.evaluatorImpact\", \"cve.vendorComments\", \"cve.evaluatorComment\", \"cve.cisaExploitAdd\", \"cve.cisaActionDue\", \"cve.cisaRequiredAction\", \"cve.cisaVulnerabilityName\", \"cve.published\", \"cve.lastModified\"]).dropna()\n",
    "X.info()"
   ],
   "id": "50fa5ad6c057d331",
   "outputs": [],
   "execution_count": null
  },
  {
   "metadata": {},
   "cell_type": "code",
   "source": [
    "cat_features = []\n",
    "num_features = [\"num_references\", \"cvss_baseScore\"]"
   ],
   "id": "c3281afa94e49080",
   "outputs": [],
   "execution_count": null
  },
  {
   "metadata": {},
   "cell_type": "markdown",
   "source": [
    "### EDA\n",
    "\n",
    "We start by looking at interesting correlations, if there are any."
   ],
   "id": "8b28ecb5f955b008"
  },
  {
   "metadata": {},
   "cell_type": "code",
   "source": [
    "plt.figure(figsize=(8,6))\n",
    "sns.heatmap(X[[\"num_references\", \"cvss_baseScore\"]].corr(), annot=False, cmap=\"coolwarm\")\n",
    "plt.title(\"Correlation Matrix of CVE Features\")\n",
    "plt.show()"
   ],
   "id": "e7eb00b941fe717d",
   "outputs": [],
   "execution_count": null
  },
  {
   "metadata": {},
   "cell_type": "markdown",
   "source": "As we can see, the only two numerical features aren't really correlated with each other. We are done for now, since we do not have integrated the calculated target(s) to the dataset.",
   "id": "b2e1097f2abd2301"
  },
  {
   "metadata": {},
   "cell_type": "markdown",
   "source": [
    "## Feature construction from historical EPSS data\n",
    "\n",
    "For each CVE, we download its complete EPSS history and we determine if at any point it satisfied the metrics set by the exercise. Since the metrics are 2, we will append 2 binary labels accordingly."
   ],
   "id": "c653746a5d7a8b3a"
  },
  {
   "metadata": {},
   "cell_type": "code",
   "source": [
    "current_date = date(2021, 4, 14)\n",
    "while current_date <= date.today():\n",
    "    url = \"https://epss.empiricalsecurity.com/epss_scores-{:%Y-%m-%d}.csv.gz\".format(current_date)\n",
    "    filename = os.path.join(data_path, f\"epss_scores-{current_date:%Y-%m-%d}.csv.gz\")\n",
    "\n",
    "    # Skip if already downloaded\n",
    "    if os.path.exists(filename):\n",
    "        print(f\"Skipping {filename} (already exists)\")\n",
    "    else:\n",
    "        print(f\"Downloading {url}...\")\n",
    "        response = requests.get(url)\n",
    "        if response.status_code == 200:\n",
    "            with open(filename, \"wb\") as f:\n",
    "                f.write(response.content)\n",
    "            print(f\"Saved to {filename}\")\n",
    "        else:\n",
    "            print(f\"No file for {current_date:%Y-%m-%d} (HTTP {response.status_code})\")\n",
    "\n",
    "    current_date += timedelta(days=1)\n",
    "\n",
    "print(\"Download complete.\")"
   ],
   "id": "5409e141838b911d",
   "outputs": [],
   "execution_count": null
  },
  {
   "metadata": {},
   "cell_type": "code",
   "source": [
    "# Loop through all .gz files\n",
    "for filename in os.listdir(data_path):\n",
    "    if filename.endswith(\".csv.gz\"):\n",
    "        gz_path = os.path.join(data_path, filename)\n",
    "        csv_path = os.path.join(data_path, filename[:-3])  # Remove .gz\n",
    "\n",
    "        print(f\"Unzipping {gz_path} -> {csv_path}\")\n",
    "        with gzip.open(gz_path, \"rb\") as f_in:\n",
    "            with open(csv_path, \"wb\") as f_out:\n",
    "                shutil.copyfileobj(f_in, f_out)\n",
    "\n",
    "print(\"All files unzipped successfully.\")"
   ],
   "id": "3520cb955c102d7e",
   "outputs": [],
   "execution_count": null
  },
  {
   "metadata": {},
   "cell_type": "markdown",
   "source": "For each CVE, we extract its time series of percentiles and we check if it ever satisfied our metrics",
   "id": "2715265a3ad2bb71"
  },
  {
   "metadata": {},
   "cell_type": "code",
   "source": [
    "def max_mean_daily_gain(values):\n",
    "    # Maximum mean daily gain over all 90-day windows\n",
    "    max_mean_gain = float('-inf')\n",
    "    for i in range(len(values) - 89):\n",
    "        window = values[i:i+90]\n",
    "        window_sum = 0\n",
    "        for j in range(1, 90):\n",
    "            window_sum += window[j] - window[0]\n",
    "        mean_gain = window_sum / 90\n",
    "        max_mean_gain = max(max_mean_gain, mean_gain)\n",
    "    return max_mean_gain\n",
    "\n",
    "def max_total_gain(values):\n",
    "    # Maximum total gain over all 90-day windows\n",
    "    max_gain = float('-inf')\n",
    "    for i in range(len(values) - 89):\n",
    "        window = values[i:i+90]\n",
    "        for j in range(1, 90):\n",
    "            max_gain = max(max_gain, window[j] - window[0])\n",
    "    return max_gain\n",
    "\n",
    "# Configuration\n",
    "cveN = \"CVE-2021-34527\"  # Replace with the desired CVE number\n",
    "\n",
    "percentile_values = []\n",
    "for cve in X:\n",
    "    cveN = cve[\"\"]\n",
    "# Loop through all CSV files\n",
    "for filename in sorted(os.listdir(data_path)):\n",
    "    if filename.endswith(\".csv\") and filename.startswith(\"epss_scores-\"):\n",
    "        file_path = os.path.join(data_path, filename)\n",
    "\n",
    "        # Extract date from filename\n",
    "        date_part = filename[len(\"epss_scores-\"):-len(\".csv\")]\n",
    "\n",
    "        # Read file and search for CVE\n",
    "        with open(file_path, newline='', encoding=\"utf-8\") as csvfile:\n",
    "            reader = csv.reader(csvfile)\n",
    "            for row in reader:\n",
    "                if len(row) >= 3 and row[0].strip() == cveN:\n",
    "                    value = float(row[2])\n",
    "                    percentile_values.append(value)\n",
    "                    break  # Stop after first match in this file"
   ],
   "id": "4bf09ee91e91aadd",
   "outputs": [],
   "execution_count": null
  },
  {
   "cell_type": "code",
   "id": "bdd1d97f-ffbd-4834-bf7e-6312a9af822f",
   "metadata": {},
   "source": [
    "nickname = 'template_submsission'  # TODO: put your nickname here\n",
    "\n",
    "# TODO: put your selected IDs here\n",
    "selected = ['CVE-YYYY-XXXXX0',\n",
    "            'CVE-YYYY-XXXXX1',\n",
    "            'CVE-YYYY-XXXXX2',\n",
    "            'CVE-YYYY-XXXXX3',\n",
    "            'CVE-YYYY-XXXXX4',\n",
    "            'CVE-YYYY-XXXXX5',\n",
    "            'CVE-YYYY-XXXXX6',\n",
    "            'CVE-YYYY-XXXXX7',\n",
    "            'CVE-YYYY-XXXXX8',\n",
    "            'CVE-YYYY-XXXXX9',\n",
    "            ]\n",
    "\n",
    "candidate_cves_df[candidate_cves_df['cve.id'].isin(selected)].to_csv(os.path.join(data_path, f'{nickname}.csv'))"
   ],
   "outputs": [],
   "execution_count": null
  }
 ],
 "metadata": {
  "kernelspec": {
   "display_name": "cybLab",
   "language": "python",
   "name": "python3"
  },
  "language_info": {
   "codemirror_mode": {
    "name": "ipython",
    "version": 3
   },
   "file_extension": ".py",
   "mimetype": "text/x-python",
   "name": "python",
   "nbconvert_exporter": "python",
   "pygments_lexer": "ipython3",
   "version": "3.11.13"
  }
 },
 "nbformat": 4,
 "nbformat_minor": 5
}
